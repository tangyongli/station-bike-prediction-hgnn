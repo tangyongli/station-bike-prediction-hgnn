{
 "cells": [
  {
   "cell_type": "code",
   "execution_count": 1,
   "metadata": {},
   "outputs": [],
   "source": [
    "\n",
    "import sys\n",
    "import os\n",
    "import torch\n",
    "import numpy as np\n",
    "import geopandas as gpd\n",
    "import matplotlib.pyplot as plt\n",
    "import folium\n",
    "\n",
    "\n",
    "# insert the current absoulute path of .ipynb file into system path for moulde import from other .py files\n",
    "src_path = os.path.abspath(os.path.join(os.path.dirname('/home/yl/Bike/vis_prediction.ipynb'), \"..\"))\n",
    "sys.path.insert(0, src_path)\n",
    "from src.utils.data_utils import load_hetero_data,denormalize\n",
    "from src.data.dataset_generator import create_data_loaders\n",
    "from src.models import h_tgnn\n",
    "from src.config import get_args\n",
    "device = torch.device('cuda' if torch.cuda.is_available() else 'cpu')"
   ]
  },
  {
   "cell_type": "markdown",
   "metadata": {},
   "source": [
    "## Model loading and data processing"
   ]
  },
  {
   "cell_type": "code",
   "execution_count": 2,
   "metadata": {},
   "outputs": [
    {
     "name": "stdout",
     "output_type": "stream",
     "text": [
      "(['station_poi', 'census_zone', 'poi_category'], [('station', 'adjacent_to', 'station'), ('station', 'near_poi_category', 'poi_category'), ('station', 'located_in', 'census_zone')])\n"
     ]
    }
   ],
   "source": [
    "\n",
    "node_dynamicfeatures_optimized=np.load('Data/processed_data/inputsarrayforTGNN_dynamicfeatures(flowsweatherhourday).npy') # (5833, 1615, 8)\n",
    "node_staticfeatures_optimized=np.load('Data/processed_data/inputsarrayforTGNN_staticfeatures(poicensus).npy') # (1, 1615, 11)\n",
    "hetero_data_example = load_hetero_data('Data/processed_data/hetero_data_addcensus1.pkl')\n",
    "print(hetero_data_example.metadata())\n",
    "args=get_args()\n",
    "train_dataset,val_dataset,test_dataset,train_dataloader, val_dataloader, test_dataloader=\\\n",
    "create_data_loaders(node_dynamicfeatures_optimized, hetero_data_example,args)"
   ]
  },
  {
   "cell_type": "code",
   "execution_count": 3,
   "metadata": {},
   "outputs": [
    {
     "name": "stderr",
     "output_type": "stream",
     "text": [
      "/tmp/ipykernel_4091/4017035662.py:6: FutureWarning: You are using `torch.load` with `weights_only=False` (the current default value), which uses the default pickle module implicitly. It is possible to construct malicious pickle data which will execute arbitrary code during unpickling (See https://github.com/pytorch/pytorch/blob/main/SECURITY.md#untrusted-models for more details). In a future release, the default value for `weights_only` will be flipped to `True`. This limits the functions that could be executed during unpickling. Arbitrary objects will no longer be allowed to be loaded via this mode unless they are explicitly allowlisted by the user via `torch.serialization.add_safe_globals`. We recommend you start setting `weights_only=True` for any use case where you don't have full control of the loaded file. Please open an issue on GitHub for any issues related to this experimental feature.\n",
      "  state_dict = torch.load(modelpath, map_location=device)\n"
     ]
    }
   ],
   "source": [
    "model =h_tgnn.HeteroGNN(16,32,3)\n",
    "modelpath='Log/models/bestmodel/bestmodel_hetero-gru_16_32.pt'\n",
    "# model = h_tgnn.GRU(16,32,3)\n",
    "# modelpath='../../Log/models/bestmodel/bestmodel_GRU_16_32.pt'\n",
    "\n",
    "state_dict = torch.load(modelpath, map_location=device)\n",
    "model.load_state_dict(state_dict)\n",
    "model = model.to(device)\n"
   ]
  },
  {
   "cell_type": "markdown",
   "metadata": {},
   "source": [
    "## Predicting flows by selectedsationFID"
   ]
  },
  {
   "cell_type": "code",
   "execution_count": 9,
   "metadata": {},
   "outputs": [],
   "source": [
    "def PredictionbyStation(station_id):\n",
    "    '''\n",
    "    Return the prediction of one selected station\n",
    "    \n",
    "    '''\n",
    "    predictions=[]\n",
    "    trues=[]\n",
    "    with torch.no_grad(): \n",
    "        image_list=[]\n",
    "        for i, a in enumerate(val_dataloader):\n",
    "            # select the first batch for prediction\n",
    "            if i==1:\n",
    "                break\n",
    "            image_list.append(a)\n",
    "            x_dict, target= a\n",
    "            # Record the prediction starting from 0:00 to 24:00\n",
    "            # print(x_dict['features']['hour_of_day'].shape)\n",
    "            # print(x_dict['features']['hour_of_day'][0,0:6,0,...])\n",
    "            # print(x_dict['features']['hour_of_day'][1,0:6,0,...])\n",
    "            \n",
    "            ## 满足station_id条件的位置掩码\n",
    "            mask=x_dict['features']['station_fid'][0,0,...,0]==station_id\n",
    "            mask=mask.cpu().numpy()\n",
    "            \n",
    "            target=target.permute(0, 2, 1)\n",
    "            y_prediction = model(x_dict)\n",
    "            y_true= denormalize(target, train_dataset.scaler['target']['min'],\n",
    "                                            train_dataset.scaler['target']['max'])\n",
    "            y_prediction = denormalize(y_prediction, train_dataset.scaler['target']['min'],\n",
    "                                            train_dataset.scaler['target']['max']).cpu().numpy()\n",
    "            predictions.append(y_prediction)\n",
    "            trues.append(y_true)\n",
    "            \n",
    "    predictions_array=np.concatenate(predictions,axis=0)\n",
    "    trues_array=np.concatenate(trues,axis=0)\n",
    "    print(predictions_array.shape,trues_array.shape)\n",
    "    predictions_array=np.transpose(predictions_array,(1,0,2))\n",
    "    trues_array=np.transpose(trues_array,(1,0,2))\n",
    "    predictions_array=np.reshape(predictions_array,(predictions_array.shape[0],-1))[mask].squeeze(0)\n",
    "    trues_array=np.reshape(trues_array,(trues_array.shape[0],-1))[mask].squeeze(0)\n",
    "    print(predictions_array.shape,trues_array.shape)\n",
    "    \n",
    "    return predictions_array,trues_array"
   ]
  },
  {
   "cell_type": "code",
   "execution_count": 4,
   "metadata": {},
   "outputs": [
    {
     "ename": "NameError",
     "evalue": "name 'PredictionbyStation' is not defined",
     "output_type": "error",
     "traceback": [
      "\u001b[0;31m---------------------------------------------------------------------------\u001b[0m",
      "\u001b[0;31mNameError\u001b[0m                                 Traceback (most recent call last)",
      "Cell \u001b[0;32mIn[4], line 2\u001b[0m\n\u001b[1;32m      1\u001b[0m station_id\u001b[38;5;241m=\u001b[39m\u001b[38;5;241m240\u001b[39m\n\u001b[0;32m----> 2\u001b[0m predictions_array,trues_array\u001b[38;5;241m=\u001b[39m\u001b[43mPredictionbyStation\u001b[49m(station_id)\n",
      "\u001b[0;31mNameError\u001b[0m: name 'PredictionbyStation' is not defined"
     ]
    }
   ],
   "source": [
    "station_id=240\n",
    "predictions_array,trues_array=PredictionbyStation(station_id)"
   ]
  },
  {
   "cell_type": "code",
   "execution_count": 11,
   "metadata": {},
   "outputs": [
    {
     "data": {
      "image/png": "[encoded data removed]",
      "text/plain": [
       "<Figure size 640x480 with 1 Axes>"
      ]
     },
     "metadata": {},
     "output_type": "display_data"
    }
   ],
   "source": [
    "def vis_stationfid(i,station_id):\n",
    "    plt.plot(trues_array[i:i+24],label='True')\n",
    "    plt.plot(predictions_array[i:i+24],label='Prediction')\n",
    "    plt.legend(title=f'Station ID: {station_id}')\n",
    "   \n",
    "vis_stationfid(12,station_id)"
   ]
  },
  {
   "cell_type": "markdown",
   "metadata": {},
   "source": [
    "## Visualize the selected station on map"
   ]
  },
  {
   "cell_type": "code",
   "execution_count": 5,
   "metadata": {},
   "outputs": [],
   "source": [
    "bike_gdf=gpd.read_parquet('/home/yl/Bike/Data/processed_data/bikegdfbeforemodel.parquet').query('day>\"2022-04-01\"').to_crs('EPSG:4326').drop_duplicates(subset='station_name')\n",
    "query_string = f\"station_fid == {station_id}\"\n",
    "station=bike_gdf.query(query_string)"
   ]
  },
  {
   "cell_type": "code",
   "execution_count": 13,
   "metadata": {},
   "outputs": [
    {
     "name": "stderr",
     "output_type": "stream",
     "text": [
      "/home/yl/miniconda3/envs/bike/lib/python3.12/site-packages/folium/utilities.py:101: FutureWarning: Calling float on a single element Series is deprecated and will raise a TypeError in the future. Use float(ser.iloc[0]) instead\n",
      "  float(coord)\n",
      "/home/yl/miniconda3/envs/bike/lib/python3.12/site-packages/folium/utilities.py:107: FutureWarning: Calling float on a single element Series is deprecated and will raise a TypeError in the future. Use float(ser.iloc[0]) instead\n",
      "  if math.isnan(float(coord)):\n",
      "/home/yl/miniconda3/envs/bike/lib/python3.12/site-packages/folium/utilities.py:109: FutureWarning: Calling float on a single element Series is deprecated and will raise a TypeError in the future. Use float(ser.iloc[0]) instead\n",
      "  return [float(x) for x in coords]\n"
     ]
    },
    {
     "data": {
      "text/html": [
       "<div style=\"width:100%;\"><div style=\"position:relative;width:100%;height:0;padding-bottom:60%;\"><span style=\"color:#565656\">Make this Notebook Trusted to load map: File -> Trust Notebook</span><iframe srcdoc=\"&lt;!DOCTYPE html&gt;\n",
       "&lt;html&gt;\n",
       "&lt;head&gt;\n",
       "    \n",
       "    &lt;meta http-equiv=&quot;content-type&quot; content=&quot;text/html; charset=UTF-8&quot; /&gt;\n",
       "    \n",
       "        &lt;script&gt;\n",
       "            L_NO_TOUCH = false;\n",
       "            L_DISABLE_3D = false;\n",
       "        &lt;/script&gt;\n",
       "    \n",
       "    &lt;style&gt;html, body {width: 100%;height: 100%;margin: 0;padding: 0;}&lt;/style&gt;\n",
       "    &lt;style&gt;#map {position:absolute;top:0;bottom:0;right:0;left:0;}&lt;/style&gt;\n",
       "    &lt;script src=&quot;https://cdn.jsdelivr.net/npm/leaflet@1.9.3/dist/leaflet.js&quot;&gt;&lt;/script&gt;\n",
       "    &lt;script src=&quot;https://code.jquery.com/jquery-3.7.1.min.js&quot;&gt;&lt;/script&gt;\n",
       "    &lt;script src=&quot;https://cdn.jsdelivr.net/npm/bootstrap@5.2.2/dist/js/bootstrap.bundle.min.js&quot;&gt;&lt;/script&gt;\n",
       "    &lt;script src=&quot;https://cdnjs.cloudflare.com/ajax/libs/Leaflet.awesome-markers/2.0.2/leaflet.awesome-markers.js&quot;&gt;&lt;/script&gt;\n",
       "    &lt;link rel=&quot;stylesheet&quot; href=&quot;https://cdn.jsdelivr.net/npm/leaflet@1.9.3/dist/leaflet.css&quot;/&gt;\n",
       "    &lt;link rel=&quot;stylesheet&quot; href=&quot;https://cdn.jsdelivr.net/npm/bootstrap@5.2.2/dist/css/bootstrap.min.css&quot;/&gt;\n",
       "    &lt;link rel=&quot;stylesheet&quot; href=&quot;https://netdna.bootstrapcdn.com/bootstrap/3.0.0/css/bootstrap-glyphicons.css&quot;/&gt;\n",
       "    &lt;link rel=&quot;stylesheet&quot; href=&quot;https://cdn.jsdelivr.net/npm/@fortawesome/fontawesome-free@6.2.0/css/all.min.css&quot;/&gt;\n",
       "    &lt;link rel=&quot;stylesheet&quot; href=&quot;https://cdnjs.cloudflare.com/ajax/libs/Leaflet.awesome-markers/2.0.2/leaflet.awesome-markers.css&quot;/&gt;\n",
       "    &lt;link rel=&quot;stylesheet&quot; href=&quot;https://cdn.jsdelivr.net/gh/python-visualization/folium/folium/templates/leaflet.awesome.rotate.min.css&quot;/&gt;\n",
       "    \n",
       "            &lt;meta name=&quot;viewport&quot; content=&quot;width=device-width,\n",
       "                initial-scale=1.0, maximum-scale=1.0, user-scalable=no&quot; /&gt;\n",
       "            &lt;style&gt;\n",
       "                #map_3c37b08d310885ff1f03927ccfcd6f50 {\n",
       "                    position: relative;\n",
       "                    width: 100.0%;\n",
       "                    height: 100.0%;\n",
       "                    left: 0.0%;\n",
       "                    top: 0.0%;\n",
       "                }\n",
       "                .leaflet-container { font-size: 1rem; }\n",
       "            &lt;/style&gt;\n",
       "        \n",
       "    \n",
       "                    &lt;style&gt;\n",
       "                        .foliumtooltip {\n",
       "                            \n",
       "                        }\n",
       "                       .foliumtooltip table{\n",
       "                            margin: auto;\n",
       "                        }\n",
       "                        .foliumtooltip tr{\n",
       "                            text-align: left;\n",
       "                        }\n",
       "                        .foliumtooltip th{\n",
       "                            padding: 2px; padding-right: 8px;\n",
       "                        }\n",
       "                    &lt;/style&gt;\n",
       "            \n",
       "&lt;/head&gt;\n",
       "&lt;body&gt;\n",
       "    \n",
       "    \n",
       "            &lt;div class=&quot;folium-map&quot; id=&quot;map_3c37b08d310885ff1f03927ccfcd6f50&quot; &gt;&lt;/div&gt;\n",
       "        \n",
       "&lt;/body&gt;\n",
       "&lt;script&gt;\n",
       "    \n",
       "    \n",
       "            var map_3c37b08d310885ff1f03927ccfcd6f50 = L.map(\n",
       "                &quot;map_3c37b08d310885ff1f03927ccfcd6f50&quot;,\n",
       "                {\n",
       "                    center: [40.792255299999994, -73.95249933],\n",
       "                    crs: L.CRS.EPSG3857,\n",
       "                    ...{\n",
       "  &quot;zoom&quot;: 15,\n",
       "  &quot;zoomControl&quot;: true,\n",
       "  &quot;preferCanvas&quot;: false,\n",
       "}\n",
       "\n",
       "                }\n",
       "            );\n",
       "\n",
       "            \n",
       "\n",
       "        \n",
       "    \n",
       "            var tile_layer_57825f0dcba992d166fd1d3f0c4fbd5d = L.tileLayer(\n",
       "                &quot;https://tile.openstreetmap.org/{z}/{x}/{y}.png&quot;,\n",
       "                {\n",
       "  &quot;minZoom&quot;: 0,\n",
       "  &quot;maxZoom&quot;: 19,\n",
       "  &quot;maxNativeZoom&quot;: 19,\n",
       "  &quot;noWrap&quot;: false,\n",
       "  &quot;attribution&quot;: &quot;\\u0026copy; \\u003ca href=\\&quot;https://www.openstreetmap.org/copyright\\&quot;\\u003eOpenStreetMap\\u003c/a\\u003e contributors&quot;,\n",
       "  &quot;subdomains&quot;: &quot;abc&quot;,\n",
       "  &quot;detectRetina&quot;: false,\n",
       "  &quot;tms&quot;: false,\n",
       "  &quot;opacity&quot;: 1,\n",
       "}\n",
       "\n",
       "            );\n",
       "        \n",
       "    \n",
       "            tile_layer_57825f0dcba992d166fd1d3f0c4fbd5d.addTo(map_3c37b08d310885ff1f03927ccfcd6f50);\n",
       "        \n",
       "    \n",
       "        function geo_json_6c170b9ef4eb9dc871c057059db5f371_styler(feature) {\n",
       "            switch(feature.id) {\n",
       "                default:\n",
       "                    return {&quot;color&quot;: &quot;transparent&quot;, &quot;fillColor&quot;: &quot;transparent&quot;};\n",
       "            }\n",
       "        }\n",
       "\n",
       "        function geo_json_6c170b9ef4eb9dc871c057059db5f371_onEachFeature(feature, layer) {\n",
       "            layer.on({\n",
       "            });\n",
       "        };\n",
       "        var geo_json_6c170b9ef4eb9dc871c057059db5f371 = L.geoJson(null, {\n",
       "                onEachFeature: geo_json_6c170b9ef4eb9dc871c057059db5f371_onEachFeature,\n",
       "            \n",
       "                style: geo_json_6c170b9ef4eb9dc871c057059db5f371_styler,\n",
       "            ...{\n",
       "}\n",
       "        });\n",
       "\n",
       "        function geo_json_6c170b9ef4eb9dc871c057059db5f371_add (data) {\n",
       "            geo_json_6c170b9ef4eb9dc871c057059db5f371\n",
       "                .addData(data);\n",
       "        }\n",
       "            geo_json_6c170b9ef4eb9dc871c057059db5f371_add({&quot;bbox&quot;: [-73.95249933, 40.792255299999994, -73.95249933, 40.792255299999994], &quot;features&quot;: [{&quot;bbox&quot;: [-73.95249933, 40.792255299999994, -73.95249933, 40.792255299999994], &quot;geometry&quot;: {&quot;coordinates&quot;: [-73.95249933, 40.792255299999994], &quot;type&quot;: &quot;Point&quot;}, &quot;id&quot;: &quot;1399920&quot;, &quot;properties&quot;: {&quot;Art and Entertainment&quot;: 0, &quot;GEOID&quot;: &quot;36061016800&quot;, &quot;Health and Medicine&quot;: 16, &quot;Recreation and Leisure&quot;: 24, &quot;Shape_Area&quot;: 2151969.49291, &quot;Travel and Transportation&quot;: 8, &quot;Unnamed: 0&quot;: 1579224, &quot;Unnamed: 0.1&quot;: 1579224, &quot;checkin_trips&quot;: 0.0, &quot;checkout_trips&quot;: 0.0, &quot;cloud_cover (%)&quot;: 0.0, &quot;commercial_retail&quot;: 0, &quot;datetime&quot;: &quot;2022-04-02 00:00:00&quot;, &quot;day&quot;: &quot;2022-04-02&quot;, &quot;day of week&quot;: 5.0, &quot;flows&quot;: 0.0, &quot;food&quot;: 0, &quot;hour&quot;: 0, &quot;income&quot;: 38281.0, &quot;lat&quot;: 40.7922553, &quot;lon&quot;: -73.95249933, &quot;month&quot;: null, &quot;per_income&quot;: 8.34918211559433, &quot;pop&quot;: 4585.0, &quot;popdensity&quot;: 2130.6064119895746, &quot;precipitation (mm)&quot;: 0.0, &quot;residential&quot;: 0, &quot;station_fid&quot;: 240, &quot;station_name&quot;: &quot;5 Ave \\u0026 E 103 St&quot;, &quot;temperature_2m (\\u00b0C)&quot;: 6.0, &quot;vehicleratio&quot;: 17.700000000000003, &quot;visibility (m)&quot;: 51100.0, &quot;wind_speed_10m (km/h)&quot;: 27.5, &quot;work_education&quot;: 16}, &quot;type&quot;: &quot;Feature&quot;}], &quot;type&quot;: &quot;FeatureCollection&quot;});\n",
       "\n",
       "        \n",
       "    \n",
       "    geo_json_6c170b9ef4eb9dc871c057059db5f371.bindTooltip(\n",
       "    function(layer){\n",
       "    let div = L.DomUtil.create(&#x27;div&#x27;);\n",
       "    \n",
       "    let handleObject = feature=&gt;typeof(feature)==&#x27;object&#x27; ? JSON.stringify(feature) : feature;\n",
       "    let fields = [&quot;station_fid&quot;];\n",
       "    let aliases = [&quot;station_fid:&quot;];\n",
       "    let table = &#x27;&lt;table&gt;&#x27; +\n",
       "        String(\n",
       "        fields.map(\n",
       "        (v,i)=&gt;\n",
       "        `&lt;tr&gt;\n",
       "            &lt;th&gt;${aliases[i]}&lt;/th&gt;\n",
       "            \n",
       "            &lt;td&gt;${handleObject(layer.feature.properties[v])}&lt;/td&gt;\n",
       "        &lt;/tr&gt;`).join(&#x27;&#x27;))\n",
       "    +&#x27;&lt;/table&gt;&#x27;;\n",
       "    div.innerHTML=table;\n",
       "    \n",
       "    return div\n",
       "    }\n",
       "    ,{\n",
       "  &quot;sticky&quot;: true,\n",
       "  &quot;className&quot;: &quot;foliumtooltip&quot;,\n",
       "});\n",
       "                     \n",
       "    \n",
       "            geo_json_6c170b9ef4eb9dc871c057059db5f371.addTo(map_3c37b08d310885ff1f03927ccfcd6f50);\n",
       "        \n",
       "&lt;/script&gt;\n",
       "&lt;/html&gt;\" style=\"position:absolute;width:100%;height:100%;left:0;top:0;border:none !important;\" allowfullscreen webkitallowfullscreen mozallowfullscreen></iframe></div></div>"
      ],
      "text/plain": [
       "<folium.folium.Map at 0x7f8d36c5bb30>"
      ]
     },
     "execution_count": 13,
     "metadata": {},
     "output_type": "execute_result"
    }
   ],
   "source": [
    "\n",
    "tiles= \"https://server.arcgisonline.com/ArcGIS/rest/services/World_Imagery/MapServer/tile/{z}/{y}/{x}\"\n",
    "attr = (\n",
    "'Tiles &copy; Esri &mdash; Source: Esri, i-cubed, USDA, USGS, AEX, GeoEye, Getmapping, Aerogrid, IGN, IGP, UPR-EGP, and the GIS User Community'\n",
    ")\n",
    "\n",
    "interactive_map = folium.Map(\n",
    "    # tiles=tiles,\n",
    "    # attr=attr,\n",
    "    location=(station.geometry.y,station.geometry.x),\n",
    "    zoom_start=15,\n",
    ")\n",
    "\n",
    "def style_function(feature):\n",
    "    return {\n",
    "        \"color\": \"transparent\",\n",
    "        \"fillColor\": \"transparent\"\n",
    "    }\n",
    "# Click the marker, show property:station_fid\n",
    "tooltip = folium.features.GeoJsonTooltip(\n",
    "    fields=(\"station_fid\",),\n",
    "    aliases=(\"station_fid:\",)\n",
    ")\n",
    "\n",
    "tooltip_layer = folium.features.GeoJson(\n",
    "    bike_gdf.query(query_string),\n",
    "    style_function=style_function,\n",
    "    tooltip=tooltip\n",
    ")\n",
    "tooltip_layer.add_to(interactive_map)\n",
    "\n",
    "interactive_map\n",
    "\n",
    "\n",
    "\n"
   ]
  }
 ],
 "metadata": {
  "kernelspec": {
   "display_name": "bike",
   "language": "python",
   "name": "python3"
  },
  "language_info": {
   "codemirror_mode": {
    "name": "ipython",
    "version": 3
   },
   "file_extension": ".py",
   "mimetype": "text/x-python",
   "name": "python",
   "nbconvert_exporter": "python",
   "pygments_lexer": "ipython3",
   "version": "3.12.9"
  }
 },
 "nbformat": 4,
 "nbformat_minor": 2
}
